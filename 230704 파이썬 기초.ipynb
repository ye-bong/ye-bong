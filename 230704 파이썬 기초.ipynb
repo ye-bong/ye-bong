{
 "cells": [
  {
   "cell_type": "markdown",
   "id": "9b9a26bd",
   "metadata": {},
   "source": [
    "# 파이썬의 자료형"
   ]
  },
  {
   "cell_type": "code",
   "execution_count": 1,
   "id": "31f42a49",
   "metadata": {},
   "outputs": [],
   "source": [
    "x = 123"
   ]
  },
  {
   "cell_type": "code",
   "execution_count": 2,
   "id": "11559815",
   "metadata": {},
   "outputs": [
    {
     "data": {
      "text/plain": [
       "123"
      ]
     },
     "execution_count": 2,
     "metadata": {},
     "output_type": "execute_result"
    }
   ],
   "source": [
    "x"
   ]
  },
  {
   "cell_type": "code",
   "execution_count": 3,
   "id": "37b1326f",
   "metadata": {},
   "outputs": [
    {
     "data": {
      "text/plain": [
       "int"
      ]
     },
     "execution_count": 3,
     "metadata": {},
     "output_type": "execute_result"
    }
   ],
   "source": [
    "type(x)"
   ]
  },
  {
   "cell_type": "markdown",
   "id": "3512f0d8",
   "metadata": {},
   "source": [
    "# 파이썬의 연산자"
   ]
  },
  {
   "cell_type": "code",
   "execution_count": 4,
   "id": "12069b20",
   "metadata": {},
   "outputs": [
    {
     "data": {
      "text/plain": [
       "123"
      ]
     },
     "execution_count": 4,
     "metadata": {},
     "output_type": "execute_result"
    }
   ],
   "source": [
    "x"
   ]
  },
  {
   "cell_type": "code",
   "execution_count": 5,
   "id": "eb4d8312",
   "metadata": {},
   "outputs": [
    {
     "data": {
      "text/plain": [
       "579"
      ]
     },
     "execution_count": 5,
     "metadata": {},
     "output_type": "execute_result"
    }
   ],
   "source": [
    "x + 456"
   ]
  },
  {
   "cell_type": "code",
   "execution_count": 6,
   "id": "7ebb3eb9",
   "metadata": {},
   "outputs": [
    {
     "data": {
      "text/plain": [
       "15129"
      ]
     },
     "execution_count": 6,
     "metadata": {},
     "output_type": "execute_result"
    }
   ],
   "source": [
    "x **2"
   ]
  },
  {
   "cell_type": "code",
   "execution_count": 7,
   "id": "0bf80b7f",
   "metadata": {},
   "outputs": [
    {
     "data": {
      "text/plain": [
       "3"
      ]
     },
     "execution_count": 7,
     "metadata": {},
     "output_type": "execute_result"
    }
   ],
   "source": [
    "x%5"
   ]
  },
  {
   "cell_type": "code",
   "execution_count": 8,
   "id": "a148ba8a",
   "metadata": {},
   "outputs": [
    {
     "data": {
      "text/plain": [
       "False"
      ]
     },
     "execution_count": 8,
     "metadata": {},
     "output_type": "execute_result"
    }
   ],
   "source": [
    "x>500"
   ]
  },
  {
   "cell_type": "code",
   "execution_count": 9,
   "id": "1390edfe",
   "metadata": {},
   "outputs": [
    {
     "data": {
      "text/plain": [
       "24"
      ]
     },
     "execution_count": 9,
     "metadata": {},
     "output_type": "execute_result"
    }
   ],
   "source": [
    "x//5"
   ]
  },
  {
   "cell_type": "code",
   "execution_count": 10,
   "id": "e20a5849",
   "metadata": {},
   "outputs": [
    {
     "data": {
      "text/plain": [
       "3"
      ]
     },
     "execution_count": 10,
     "metadata": {},
     "output_type": "execute_result"
    }
   ],
   "source": [
    "x%5"
   ]
  },
  {
   "cell_type": "code",
   "execution_count": 11,
   "id": "dfd9416b",
   "metadata": {},
   "outputs": [],
   "source": [
    "y='999'"
   ]
  },
  {
   "cell_type": "code",
   "execution_count": 12,
   "id": "e2d00473",
   "metadata": {},
   "outputs": [
    {
     "data": {
      "text/plain": [
       "'999'"
      ]
     },
     "execution_count": 12,
     "metadata": {},
     "output_type": "execute_result"
    }
   ],
   "source": [
    "y"
   ]
  },
  {
   "cell_type": "code",
   "execution_count": 13,
   "id": "81f991dd",
   "metadata": {},
   "outputs": [
    {
     "data": {
      "text/plain": [
       "str"
      ]
     },
     "execution_count": 13,
     "metadata": {},
     "output_type": "execute_result"
    }
   ],
   "source": [
    "type(y)"
   ]
  },
  {
   "cell_type": "code",
   "execution_count": 14,
   "id": "7fa074fa",
   "metadata": {},
   "outputs": [
    {
     "ename": "TypeError",
     "evalue": "unsupported operand type(s) for +: 'int' and 'str'",
     "output_type": "error",
     "traceback": [
      "\u001b[1;31m---------------------------------------------------------------------------\u001b[0m",
      "\u001b[1;31mTypeError\u001b[0m                                 Traceback (most recent call last)",
      "Cell \u001b[1;32mIn[14], line 1\u001b[0m\n\u001b[1;32m----> 1\u001b[0m \u001b[43mx\u001b[49m\u001b[38;5;241;43m+\u001b[39;49m\u001b[43my\u001b[49m\n",
      "\u001b[1;31mTypeError\u001b[0m: unsupported operand type(s) for +: 'int' and 'str'"
     ]
    }
   ],
   "source": [
    "x+y"
   ]
  },
  {
   "cell_type": "code",
   "execution_count": null,
   "id": "897d836e",
   "metadata": {},
   "outputs": [],
   "source": [
    "y+50"
   ]
  },
  {
   "cell_type": "code",
   "execution_count": null,
   "id": "3d6219aa",
   "metadata": {},
   "outputs": [],
   "source": [
    "'in '+y"
   ]
  },
  {
   "cell_type": "code",
   "execution_count": null,
   "id": "bb41f2d9",
   "metadata": {},
   "outputs": [],
   "source": [
    "y+'50'"
   ]
  },
  {
   "cell_type": "code",
   "execution_count": null,
   "id": "ec843e7a",
   "metadata": {},
   "outputs": [],
   "source": [
    "y"
   ]
  },
  {
   "cell_type": "code",
   "execution_count": null,
   "id": "3771e857",
   "metadata": {},
   "outputs": [],
   "source": [
    "y = y+'50'"
   ]
  },
  {
   "cell_type": "code",
   "execution_count": null,
   "id": "13bfdd49",
   "metadata": {},
   "outputs": [],
   "source": [
    "y"
   ]
  },
  {
   "cell_type": "code",
   "execution_count": null,
   "id": "f6c28638",
   "metadata": {},
   "outputs": [],
   "source": [
    "y-'50'"
   ]
  },
  {
   "cell_type": "code",
   "execution_count": null,
   "id": "406aa9ea",
   "metadata": {},
   "outputs": [],
   "source": [
    "y*3"
   ]
  },
  {
   "cell_type": "code",
   "execution_count": null,
   "id": "35e224d8",
   "metadata": {},
   "outputs": [],
   "source": [
    "z = [1,2,3]"
   ]
  },
  {
   "cell_type": "code",
   "execution_count": null,
   "id": "34849c2e",
   "metadata": {},
   "outputs": [],
   "source": [
    "z"
   ]
  },
  {
   "cell_type": "code",
   "execution_count": null,
   "id": "3697a7cb",
   "metadata": {},
   "outputs": [],
   "source": [
    "z+[5]"
   ]
  },
  {
   "cell_type": "code",
   "execution_count": null,
   "id": "3650ef8f",
   "metadata": {},
   "outputs": [],
   "source": [
    "z*6"
   ]
  },
  {
   "cell_type": "markdown",
   "id": "b1d5abb9",
   "metadata": {},
   "source": [
    "# 파이썬의 연산자 실습"
   ]
  },
  {
   "cell_type": "code",
   "execution_count": null,
   "id": "f0fdbf42",
   "metadata": {},
   "outputs": [],
   "source": [
    "1+2"
   ]
  },
  {
   "cell_type": "code",
   "execution_count": null,
   "id": "19e677b6",
   "metadata": {},
   "outputs": [],
   "source": [
    "2-5"
   ]
  },
  {
   "cell_type": "code",
   "execution_count": null,
   "id": "9f683684",
   "metadata": {},
   "outputs": [],
   "source": [
    "5.67 / 5"
   ]
  },
  {
   "cell_type": "code",
   "execution_count": null,
   "id": "09012860",
   "metadata": {},
   "outputs": [],
   "source": [
    "'예원'+'짱짱'"
   ]
  },
  {
   "cell_type": "code",
   "execution_count": null,
   "id": "eee8657d",
   "metadata": {},
   "outputs": [],
   "source": [
    "'이예원'*'99' \n",
    "#문자열끼리는 곱셈 못함"
   ]
  },
  {
   "cell_type": "code",
   "execution_count": null,
   "id": "4dc903c3",
   "metadata": {},
   "outputs": [],
   "source": [
    "'이예원'*3"
   ]
  },
  {
   "cell_type": "code",
   "execution_count": null,
   "id": "3d9ec675",
   "metadata": {},
   "outputs": [],
   "source": [
    "[1,2,4]-[2,4] #리스트끼리 뺄셈 못함"
   ]
  },
  {
   "cell_type": "code",
   "execution_count": null,
   "id": "d8fbe491",
   "metadata": {},
   "outputs": [],
   "source": [
    "[1,2,4]+[2,4]"
   ]
  },
  {
   "cell_type": "code",
   "execution_count": null,
   "id": "a2a982f8",
   "metadata": {},
   "outputs": [],
   "source": [
    "(1,2,3)+(1,2,3)"
   ]
  },
  {
   "cell_type": "code",
   "execution_count": null,
   "id": "68cea217",
   "metadata": {},
   "outputs": [],
   "source": [
    "(1,2,3)-(1,2) #튜플과 튜플은 빼기 못함"
   ]
  },
  {
   "cell_type": "code",
   "execution_count": null,
   "id": "7aaf8715",
   "metadata": {},
   "outputs": [],
   "source": [
    "(1,2)*3"
   ]
  },
  {
   "cell_type": "code",
   "execution_count": null,
   "id": "c1b7eb11",
   "metadata": {},
   "outputs": [],
   "source": [
    "{a:'사과'}+{b:'바나나'}"
   ]
  },
  {
   "cell_type": "code",
   "execution_count": null,
   "id": "d0c958fb",
   "metadata": {},
   "outputs": [],
   "source": [
    "{a:'사과'}"
   ]
  },
  {
   "cell_type": "code",
   "execution_count": null,
   "id": "9009ac85",
   "metadata": {},
   "outputs": [],
   "source": [
    "{'a':'사과'}+{'b':'바나나'} #dic끼리 연산x"
   ]
  },
  {
   "cell_type": "code",
   "execution_count": null,
   "id": "e7024cb0",
   "metadata": {},
   "outputs": [],
   "source": [
    "{'a':'사과'}*{'b':'바나나'}"
   ]
  },
  {
   "cell_type": "code",
   "execution_count": null,
   "id": "83980e05",
   "metadata": {},
   "outputs": [],
   "source": [
    "bool"
   ]
  },
  {
   "cell_type": "code",
   "execution_count": null,
   "id": "25cd7f3d",
   "metadata": {},
   "outputs": [],
   "source": [
    "{3:2}+{4:5}"
   ]
  },
  {
   "cell_type": "code",
   "execution_count": null,
   "id": "5e2bd515",
   "metadata": {},
   "outputs": [],
   "source": [
    "{3:2}*2"
   ]
  },
  {
   "cell_type": "code",
   "execution_count": null,
   "id": "7733ac1b",
   "metadata": {},
   "outputs": [],
   "source": [
    "{4,3,4,5,1,7,2,4,3,6}"
   ]
  },
  {
   "cell_type": "code",
   "execution_count": null,
   "id": "be1dd2cb",
   "metadata": {},
   "outputs": [],
   "source": [
    "{4,3,4,5,1,7,2,4,3,6}+{10} #집합끼리 연산x"
   ]
  },
  {
   "cell_type": "code",
   "execution_count": null,
   "id": "f992cd3b",
   "metadata": {},
   "outputs": [],
   "source": [
    "{4,3,4,5,1,7,2,4,3,6}*3"
   ]
  },
  {
   "cell_type": "code",
   "execution_count": null,
   "id": "0371408a",
   "metadata": {},
   "outputs": [],
   "source": [
    "type(True)"
   ]
  },
  {
   "cell_type": "code",
   "execution_count": null,
   "id": "6e6f9eaa",
   "metadata": {},
   "outputs": [],
   "source": [
    "type(0)"
   ]
  },
  {
   "cell_type": "code",
   "execution_count": null,
   "id": "f72620bb",
   "metadata": {},
   "outputs": [],
   "source": [
    "True - 5"
   ]
  },
  {
   "cell_type": "code",
   "execution_count": null,
   "id": "8e0237ca",
   "metadata": {},
   "outputs": [],
   "source": [
    "x =print('bob')"
   ]
  },
  {
   "cell_type": "code",
   "execution_count": null,
   "id": "671b51a8",
   "metadata": {},
   "outputs": [],
   "source": [
    "type(x)"
   ]
  },
  {
   "cell_type": "code",
   "execution_count": null,
   "id": "f7a25022",
   "metadata": {},
   "outputs": [],
   "source": [
    "x = int(input('숫자 하나를 입력해 주세요:'))"
   ]
  },
  {
   "cell_type": "code",
   "execution_count": null,
   "id": "73078dc0",
   "metadata": {},
   "outputs": [],
   "source": [
    "x"
   ]
  },
  {
   "cell_type": "markdown",
   "id": "773e5ab9",
   "metadata": {},
   "source": [
    "# 두 수를 입력받아 더하는 프로그램 만들기"
   ]
  },
  {
   "cell_type": "code",
   "execution_count": null,
   "id": "29443785",
   "metadata": {},
   "outputs": [],
   "source": [
    "x = int(input('숫자 하나를 입력해 주세요:'))"
   ]
  },
  {
   "cell_type": "code",
   "execution_count": null,
   "id": "4e50374d",
   "metadata": {},
   "outputs": [],
   "source": [
    "y = int(input('더할 숫자를 입력해 주세요:'))"
   ]
  },
  {
   "cell_type": "code",
   "execution_count": null,
   "id": "9c2544b7",
   "metadata": {},
   "outputs": [],
   "source": [
    "print(x+y)"
   ]
  },
  {
   "cell_type": "code",
   "execution_count": null,
   "id": "09e39ab7",
   "metadata": {},
   "outputs": [],
   "source": [
    "x = int(input('숫자 하나를 입력해 주세요:'))\n",
    "y = int(input('더할 숫자를 입력해 주세요:'))\n",
    "print('x와 y의 합은 아래와 같습니다.')\n",
    "print(x+y)"
   ]
  },
  {
   "cell_type": "code",
   "execution_count": null,
   "id": "f35b9707",
   "metadata": {},
   "outputs": [],
   "source": [
    "'-'.join(['Hello','World!'])"
   ]
  },
  {
   "cell_type": "markdown",
   "id": "02c4518b",
   "metadata": {},
   "source": [
    "## 디버깅 실습"
   ]
  },
  {
   "cell_type": "code",
   "execution_count": null,
   "id": "0d13e9f2",
   "metadata": {},
   "outputs": [],
   "source": [
    "print(hello, python)"
   ]
  },
  {
   "cell_type": "code",
   "execution_count": null,
   "id": "b8300482",
   "metadata": {},
   "outputs": [],
   "source": [
    "# hello와 python의 자료형에 맞게 쓰지 않았다.\n",
    "# ''을 해서 문자열 형식으로 '' 첨가해야한다.\n",
    "# hello python"
   ]
  },
  {
   "cell_type": "code",
   "execution_count": null,
   "id": "5383cc00",
   "metadata": {},
   "outputs": [],
   "source": [
    "print('hello','python')"
   ]
  },
  {
   "cell_type": "code",
   "execution_count": null,
   "id": "4d05bdf4",
   "metadata": {},
   "outputs": [],
   "source": [
    "print('hello, python'"
   ]
  },
  {
   "cell_type": "code",
   "execution_count": null,
   "id": "1dde1e07",
   "metadata": {},
   "outputs": [],
   "source": [
    "# pirnt 함수의 가로를 끝까지 치지 않았다.\n",
    "# 가로를 끝까지 친다.\n",
    "# hello python"
   ]
  },
  {
   "cell_type": "code",
   "execution_count": null,
   "id": "35094803",
   "metadata": {},
   "outputs": [],
   "source": [
    "print('hello','python')"
   ]
  },
  {
   "cell_type": "code",
   "execution_count": null,
   "id": "56fd991e",
   "metadata": {},
   "outputs": [],
   "source": [
    "try:\n",
    "    123/0\n",
    "    123/1\n",
    "except:\n",
    "    print('0으로 나눌 수 없습니다.')"
   ]
  },
  {
   "cell_type": "code",
   "execution_count": null,
   "id": "0e6f73c6",
   "metadata": {},
   "outputs": [],
   "source": [
    "try:\n",
    "    print('여기에는 문자열을 입력할 수 있습니다',P)\n",
    "except:\n",
    "    print('에러가 발생했습니다.')"
   ]
  },
  {
   "cell_type": "code",
   "execution_count": null,
   "id": "a5a266b0",
   "metadata": {},
   "outputs": [],
   "source": [
    "try:\n",
    "    print('여기에는 문자열을 입력할 수 있습니다'에러가 나는 문자열입니다. 심각한 에러)\n",
    "except:\n",
    "    print('에러가 발생했습니다.')"
   ]
  },
  {
   "cell_type": "code",
   "execution_count": null,
   "id": "035bd9c6",
   "metadata": {},
   "outputs": [],
   "source": [
    "#import 띄우고 패키지 이름 -> 패키지 불러오기, re.(tap 누르기)\n",
    "import re"
   ]
  },
  {
   "cell_type": "code",
   "execution_count": null,
   "id": "5f3b3de6",
   "metadata": {},
   "outputs": [],
   "source": [
    "re.match('H', 'HELLO123%$^')"
   ]
  },
  {
   "cell_type": "code",
   "execution_count": null,
   "id": "fa776bd6",
   "metadata": {},
   "outputs": [],
   "source": [
    "'HELLO123%$^'[0:1] #슬라이싱: N~(N-1)까지 범위를 탐색"
   ]
  },
  {
   "cell_type": "code",
   "execution_count": null,
   "id": "77cbf2d6",
   "metadata": {},
   "outputs": [],
   "source": [
    "'HELLO123%$^'[0] #인덱싱: N번째 자리를 탐색"
   ]
  },
  {
   "cell_type": "markdown",
   "id": "c8b7d721",
   "metadata": {},
   "source": [
    "## re패키지 실습"
   ]
  },
  {
   "cell_type": "code",
   "execution_count": null,
   "id": "20ff63ae",
   "metadata": {},
   "outputs": [],
   "source": [
    "str1 = 'hello~ 000000python'"
   ]
  },
  {
   "cell_type": "code",
   "execution_count": null,
   "id": "4be14ac0",
   "metadata": {},
   "outputs": [],
   "source": [
    "re.sub('000000','123456',str1)"
   ]
  },
  {
   "cell_type": "code",
   "execution_count": null,
   "id": "23e67c64",
   "metadata": {},
   "outputs": [],
   "source": [
    "re.sub('\\d\\d\\d\\d\\d\\d','123456',str1)"
   ]
  },
  {
   "cell_type": "code",
   "execution_count": null,
   "id": "5e3e2d49",
   "metadata": {},
   "outputs": [],
   "source": [
    "str2 = 'hello~ 594174python'"
   ]
  },
  {
   "cell_type": "code",
   "execution_count": null,
   "id": "753235d9",
   "metadata": {},
   "outputs": [],
   "source": [
    "re.sub('\\d+','123456',str2)"
   ]
  },
  {
   "cell_type": "code",
   "execution_count": null,
   "id": "d12ab021",
   "metadata": {},
   "outputs": [],
   "source": [
    "re.sub('[0-9]+','123456',str2) # +는 길이에 제한x"
   ]
  },
  {
   "cell_type": "code",
   "execution_count": null,
   "id": "68d8d8db",
   "metadata": {},
   "outputs": [],
   "source": [
    "str3 = 'hello~ 123-123python'"
   ]
  },
  {
   "cell_type": "code",
   "execution_count": null,
   "id": "f44e0a65",
   "metadata": {},
   "outputs": [],
   "source": [
    "re.findall('\\d\\d\\d', str3)"
   ]
  },
  {
   "cell_type": "markdown",
   "id": "cb764ec2",
   "metadata": {},
   "source": [
    "## 개행 문자"
   ]
  },
  {
   "cell_type": "code",
   "execution_count": null,
   "id": "6c09c0d5",
   "metadata": {},
   "outputs": [],
   "source": [
    "print('df\\ndd')"
   ]
  },
  {
   "cell_type": "code",
   "execution_count": null,
   "id": "9b79b589",
   "metadata": {},
   "outputs": [],
   "source": [
    "x = '''안녕\n",
    "메롱\n",
    "크크'''"
   ]
  },
  {
   "cell_type": "code",
   "execution_count": null,
   "id": "4b83d534",
   "metadata": {},
   "outputs": [],
   "source": [
    "y='안녕\\n메롱\\n크크'"
   ]
  },
  {
   "cell_type": "code",
   "execution_count": null,
   "id": "cd7e580b",
   "metadata": {},
   "outputs": [],
   "source": [
    "print(x)"
   ]
  },
  {
   "cell_type": "code",
   "execution_count": null,
   "id": "7f5a51c2",
   "metadata": {},
   "outputs": [],
   "source": [
    "print(y)"
   ]
  },
  {
   "cell_type": "code",
   "execution_count": null,
   "id": "99d0b84d",
   "metadata": {},
   "outputs": [],
   "source": [
    "x"
   ]
  },
  {
   "cell_type": "code",
   "execution_count": null,
   "id": "7ff4cc9e",
   "metadata": {},
   "outputs": [],
   "source": [
    "y"
   ]
  },
  {
   "cell_type": "code",
   "execution_count": null,
   "id": "f5bf6d6d",
   "metadata": {},
   "outputs": [],
   "source": [
    "re.sub('\\n',' ',y)"
   ]
  },
  {
   "cell_type": "markdown",
   "id": "b2df6d1d",
   "metadata": {},
   "source": [
    "## 이스케이프 문자"
   ]
  },
  {
   "cell_type": "code",
   "execution_count": null,
   "id": "fca3d259",
   "metadata": {},
   "outputs": [],
   "source": [
    "print('안녕안녕\\t아녕')"
   ]
  },
  {
   "cell_type": "code",
   "execution_count": null,
   "id": "7fa0f39f",
   "metadata": {},
   "outputs": [],
   "source": [
    "'안녕, 이안에 '따옴표'를 또 넣고 싶어'"
   ]
  },
  {
   "cell_type": "code",
   "execution_count": null,
   "id": "d1429f52",
   "metadata": {},
   "outputs": [],
   "source": [
    "print('안녕, 이안에 \\'따옴표\\'를 또 넣고 싶어')"
   ]
  },
  {
   "cell_type": "code",
   "execution_count": null,
   "id": "c3671c6d",
   "metadata": {},
   "outputs": [],
   "source": [
    "print('안녕, 이안에 \"따옴표\"를 또 넣고 싶어')"
   ]
  },
  {
   "cell_type": "markdown",
   "id": "e0c30719",
   "metadata": {},
   "source": [
    "## 이스케이프 문자 실습"
   ]
  },
  {
   "cell_type": "code",
   "execution_count": null,
   "id": "69e01e66",
   "metadata": {},
   "outputs": [],
   "source": [
    "print('파이썬\\t이스케이프\\t문자\\t실습')"
   ]
  },
  {
   "cell_type": "code",
   "execution_count": null,
   "id": "4072a5ad",
   "metadata": {},
   "outputs": [],
   "source": [
    "print('파이썬\\n이스케\\n이프문\\n자실습')"
   ]
  },
  {
   "cell_type": "code",
   "execution_count": null,
   "id": "bb3a184c",
   "metadata": {},
   "outputs": [],
   "source": [
    "print('''파이썬\n",
    "이스케\n",
    "이프문\n",
    "자실습''')"
   ]
  },
  {
   "cell_type": "markdown",
   "id": "d302d862",
   "metadata": {},
   "source": [
    "## 과제"
   ]
  },
  {
   "cell_type": "code",
   "execution_count": 16,
   "id": "49535470",
   "metadata": {},
   "outputs": [],
   "source": [
    "txt = '파이썬오늘은\\t문자열을\\t배웠고,\\t그\\t지식을\\t이용해서\\t문자열\\t수정을\\t해\\t봅시다.\\n파이썬'"
   ]
  },
  {
   "cell_type": "code",
   "execution_count": 17,
   "id": "cbff1e58",
   "metadata": {},
   "outputs": [
    {
     "name": "stdout",
     "output_type": "stream",
     "text": [
      "파이썬오늘은\t문자열을\t배웠고,\t그\t지식을\t이용해서\t문자열\t수정을\t해\t봅시다.\n",
      "파이썬\n"
     ]
    }
   ],
   "source": [
    "print(txt)"
   ]
  },
  {
   "cell_type": "code",
   "execution_count": 18,
   "id": "790e9ac2",
   "metadata": {},
   "outputs": [],
   "source": [
    "txt1 = re.sub(\"[^가-힣]\",'',txt)"
   ]
  },
  {
   "cell_type": "code",
   "execution_count": 19,
   "id": "0fd75a83",
   "metadata": {},
   "outputs": [
    {
     "name": "stdout",
     "output_type": "stream",
     "text": [
      "파이썬오늘은문자열을배웠고그지식을이용해서문자열수정을해봅시다파이썬\n"
     ]
    }
   ],
   "source": [
    "print(txt1)"
   ]
  },
  {
   "cell_type": "code",
   "execution_count": 20,
   "id": "b22a4355",
   "metadata": {},
   "outputs": [
    {
     "name": "stdout",
     "output_type": "stream",
     "text": [
      "파이썬오늘은\t문자열을\t배웠고,\n",
      "그\t지식을\t이용해서\t문자열\t수정을\t해\t봅시다.\n",
      "파이썬\n"
     ]
    }
   ],
   "source": [
    "txt2 = print('파이썬오늘은\\t문자열을\\t배웠고,\\n그\\t지식을\\t이용해서\\t문자열\\t수정을\\t해\\t봅시다.\\n파이썬')"
   ]
  },
  {
   "cell_type": "code",
   "execution_count": 21,
   "id": "fbbce01e",
   "metadata": {},
   "outputs": [],
   "source": [
    "txt3 = re.sub(\"파이썬\",'', txt)"
   ]
  },
  {
   "cell_type": "code",
   "execution_count": 22,
   "id": "6d549026",
   "metadata": {},
   "outputs": [
    {
     "data": {
      "text/plain": [
       "'오늘은\\t문자열을\\t배웠고,\\t그\\t지식을\\t이용해서\\t문자열\\t수정을\\t해\\t봅시다.\\n'"
      ]
     },
     "execution_count": 22,
     "metadata": {},
     "output_type": "execute_result"
    }
   ],
   "source": [
    "txt3"
   ]
  },
  {
   "cell_type": "code",
   "execution_count": null,
   "id": "6855985c",
   "metadata": {},
   "outputs": [],
   "source": [
    "txt4= '오늘은% 문자열을% 배웠고,%\\n그% 지식을% 이용해서% 문자열% 수정을% 해% 봅시다.'"
   ]
  },
  {
   "cell_type": "code",
   "execution_count": null,
   "id": "2830cf04",
   "metadata": {},
   "outputs": [],
   "source": [
    "print(txt4)"
   ]
  },
  {
   "cell_type": "code",
   "execution_count": 15,
   "id": "281ac0e1",
   "metadata": {},
   "outputs": [],
   "source": [
    "import re"
   ]
  },
  {
   "cell_type": "code",
   "execution_count": 25,
   "id": "9e377cd7",
   "metadata": {},
   "outputs": [],
   "source": [
    "txt4 = re.sub('\\t','% ',txt3)"
   ]
  },
  {
   "cell_type": "code",
   "execution_count": 26,
   "id": "14be809c",
   "metadata": {},
   "outputs": [
    {
     "data": {
      "text/plain": [
       "'오늘은% 문자열을% 배웠고,% 그% 지식을% 이용해서% 문자열% 수정을% 해% 봅시다.\\n'"
      ]
     },
     "execution_count": 26,
     "metadata": {},
     "output_type": "execute_result"
    }
   ],
   "source": [
    "txt4"
   ]
  },
  {
   "cell_type": "code",
   "execution_count": 30,
   "id": "fe8de074",
   "metadata": {},
   "outputs": [
    {
     "name": "stdout",
     "output_type": "stream",
     "text": [
      "오늘은% 문자열을% 배웠고,%\n",
      "그% 지식을% 이용해서% 문자열% 수정을% 해% 봅시다.\n",
      "\n"
     ]
    }
   ],
   "source": [
    "print(re.sub(',% ',',%\\n',txt4))"
   ]
  },
  {
   "cell_type": "code",
   "execution_count": null,
   "id": "9bb6573d",
   "metadata": {},
   "outputs": [],
   "source": []
  }
 ],
 "metadata": {
  "kernelspec": {
   "display_name": "Python 3 (ipykernel)",
   "language": "python",
   "name": "python3"
  },
  "language_info": {
   "codemirror_mode": {
    "name": "ipython",
    "version": 3
   },
   "file_extension": ".py",
   "mimetype": "text/x-python",
   "name": "python",
   "nbconvert_exporter": "python",
   "pygments_lexer": "ipython3",
   "version": "3.10.9"
  }
 },
 "nbformat": 4,
 "nbformat_minor": 5
}
